{
 "cells": [
  {
   "cell_type": "markdown",
   "metadata": {},
   "source": [
    "# Importing Libraries"
   ]
  },
  {
   "cell_type": "code",
   "execution_count": 1,
   "metadata": {},
   "outputs": [],
   "source": [
    "# import the necessary libraries\n",
    "import numpy as np\n",
    "import pandas as pd\n",
    "import seaborn as sns\n",
    "import matplotlib.pyplot as plt\n",
    "from sklearn.model_selection import train_test_split\n",
    "from sklearn.metrics import confusion_matrix, accuracy_score\n",
    "from sklearn.tree import DecisionTreeClassifier\n",
    "from sklearn.svm import SVC\n",
    "from sklearn.ensemble import RandomForestClassifier\n",
    "from sklearn.neighbors import KNeighborsClassifier\n",
    "from sklearn.model_selection import cross_val_score\n",
    "from sklearn.model_selection import cross_val_predict\n",
    "%matplotlib inline"
   ]
  },
  {
   "cell_type": "markdown",
   "metadata": {},
   "source": [
    "# Reading Dataset"
   ]
  },
  {
   "cell_type": "code",
   "execution_count": 5,
   "metadata": {},
   "outputs": [
    {
     "data": {
      "text/plain": [
       "['.git',\n",
       " '.ipynb_checkpoints',\n",
       " 'accute_inflammation.csv',\n",
       " 'MidtermProjectFinal.ipynb',\n",
       " 'UCR_Codes']"
      ]
     },
     "execution_count": 5,
     "metadata": {},
     "output_type": "execute_result"
    }
   ],
   "source": [
    "import os\n",
    "os.listdir()"
   ]
  },
  {
   "cell_type": "code",
   "execution_count": 6,
   "metadata": {},
   "outputs": [],
   "source": [
    "# accessing the data\n",
    "data = pd.read_csv('accute_inflammation.csv')"
   ]
  },
  {
   "cell_type": "code",
   "execution_count": 7,
   "metadata": {},
   "outputs": [],
   "source": [
    "data.columns = ['Temp','Nausea','Lumbar','Urine','Micturition','Burning','Inflammation','Nephritis']"
   ]
  },
  {
   "cell_type": "code",
   "execution_count": 8,
   "metadata": {},
   "outputs": [
    {
     "data": {
      "text/html": [
       "<div>\n",
       "<style scoped>\n",
       "    .dataframe tbody tr th:only-of-type {\n",
       "        vertical-align: middle;\n",
       "    }\n",
       "\n",
       "    .dataframe tbody tr th {\n",
       "        vertical-align: top;\n",
       "    }\n",
       "\n",
       "    .dataframe thead th {\n",
       "        text-align: right;\n",
       "    }\n",
       "</style>\n",
       "<table border=\"1\" class=\"dataframe\">\n",
       "  <thead>\n",
       "    <tr style=\"text-align: right;\">\n",
       "      <th></th>\n",
       "      <th>Temp</th>\n",
       "      <th>Nausea</th>\n",
       "      <th>Lumbar</th>\n",
       "      <th>Urine</th>\n",
       "      <th>Micturition</th>\n",
       "      <th>Burning</th>\n",
       "      <th>Inflammation</th>\n",
       "      <th>Nephritis</th>\n",
       "    </tr>\n",
       "  </thead>\n",
       "  <tbody>\n",
       "    <tr>\n",
       "      <th>0</th>\n",
       "      <td>35.3</td>\n",
       "      <td>no</td>\n",
       "      <td>yes</td>\n",
       "      <td>no</td>\n",
       "      <td>no</td>\n",
       "      <td>no</td>\n",
       "      <td>no</td>\n",
       "      <td>no</td>\n",
       "    </tr>\n",
       "    <tr>\n",
       "      <th>1</th>\n",
       "      <td>35.3</td>\n",
       "      <td>no</td>\n",
       "      <td>no</td>\n",
       "      <td>yes</td>\n",
       "      <td>yes</td>\n",
       "      <td>yes</td>\n",
       "      <td>yes</td>\n",
       "      <td>no</td>\n",
       "    </tr>\n",
       "    <tr>\n",
       "      <th>2</th>\n",
       "      <td>35.3</td>\n",
       "      <td>no</td>\n",
       "      <td>yes</td>\n",
       "      <td>no</td>\n",
       "      <td>no</td>\n",
       "      <td>no</td>\n",
       "      <td>no</td>\n",
       "      <td>no</td>\n",
       "    </tr>\n",
       "    <tr>\n",
       "      <th>3</th>\n",
       "      <td>36.3</td>\n",
       "      <td>no</td>\n",
       "      <td>no</td>\n",
       "      <td>yes</td>\n",
       "      <td>yes</td>\n",
       "      <td>yes</td>\n",
       "      <td>yes</td>\n",
       "      <td>no</td>\n",
       "    </tr>\n",
       "    <tr>\n",
       "      <th>4</th>\n",
       "      <td>36.3</td>\n",
       "      <td>no</td>\n",
       "      <td>yes</td>\n",
       "      <td>no</td>\n",
       "      <td>no</td>\n",
       "      <td>no</td>\n",
       "      <td>no</td>\n",
       "      <td>no</td>\n",
       "    </tr>\n",
       "  </tbody>\n",
       "</table>\n",
       "</div>"
      ],
      "text/plain": [
       "   Temp Nausea Lumbar Urine Micturition Burning Inflammation Nephritis\n",
       "0  35.3     no    yes    no          no      no           no        no\n",
       "1  35.3     no     no   yes         yes     yes          yes        no\n",
       "2  35.3     no    yes    no          no      no           no        no\n",
       "3  36.3     no     no   yes         yes     yes          yes        no\n",
       "4  36.3     no    yes    no          no      no           no        no"
      ]
     },
     "execution_count": 8,
     "metadata": {},
     "output_type": "execute_result"
    }
   ],
   "source": [
    "data.head(5)"
   ]
  },
  {
   "cell_type": "markdown",
   "metadata": {},
   "source": [
    "# Processing and Data Cleanup"
   ]
  },
  {
   "cell_type": "markdown",
   "metadata": {},
   "source": [
    "Within the dataset, there are four possible outcomes. A patient can have Inflammation, have Nephritis, have both or have neither. Currently, the outcome is shown in two columns (Inflamation and Nephritis). A target column is created to show all the four outcomes in one column"
   ]
  },
  {
   "cell_type": "code",
   "execution_count": 9,
   "metadata": {},
   "outputs": [
    {
     "name": "stderr",
     "output_type": "stream",
     "text": [
      "C:\\Users\\prakr\\anaconda3\\lib\\site-packages\\ipykernel_launcher.py:13: SettingWithCopyWarning: \n",
      "A value is trying to be set on a copy of a slice from a DataFrame\n",
      "\n",
      "See the caveats in the documentation: https://pandas.pydata.org/pandas-docs/stable/user_guide/indexing.html#returning-a-view-versus-a-copy\n",
      "  del sys.path[0]\n",
      "C:\\Users\\prakr\\anaconda3\\lib\\site-packages\\ipykernel_launcher.py:7: SettingWithCopyWarning: \n",
      "A value is trying to be set on a copy of a slice from a DataFrame\n",
      "\n",
      "See the caveats in the documentation: https://pandas.pydata.org/pandas-docs/stable/user_guide/indexing.html#returning-a-view-versus-a-copy\n",
      "  import sys\n",
      "C:\\Users\\prakr\\anaconda3\\lib\\site-packages\\ipykernel_launcher.py:9: SettingWithCopyWarning: \n",
      "A value is trying to be set on a copy of a slice from a DataFrame\n",
      "\n",
      "See the caveats in the documentation: https://pandas.pydata.org/pandas-docs/stable/user_guide/indexing.html#returning-a-view-versus-a-copy\n",
      "  if __name__ == '__main__':\n",
      "C:\\Users\\prakr\\anaconda3\\lib\\site-packages\\ipykernel_launcher.py:11: SettingWithCopyWarning: \n",
      "A value is trying to be set on a copy of a slice from a DataFrame\n",
      "\n",
      "See the caveats in the documentation: https://pandas.pydata.org/pandas-docs/stable/user_guide/indexing.html#returning-a-view-versus-a-copy\n",
      "  # This is added back by InteractiveShellApp.init_path()\n"
     ]
    }
   ],
   "source": [
    "# created a target column with zeros\n",
    "data['target'] = data.apply(lambda _: 0 , axis=1)\n",
    "\n",
    "# polupate target column using information in columns Inflammation and Nephritis\n",
    "for x in range(120):\n",
    "    if  data['Inflammation'][x] == \"yes\" and data['Nephritis'][x] == \"no\":\n",
    "        data['target'][x] = 1\n",
    "    elif data['Inflammation'][x] == \"no\" and data['Nephritis'][x] == \"yes\":\n",
    "        data['target'][x] = 2\n",
    "    elif data['Inflammation'][x] == \"yes\" and data['Nephritis'][x] == \"yes\":\n",
    "        data['target'][x] = 3\n",
    "    else:\n",
    "        data['target'][x] = 4"
   ]
  },
  {
   "cell_type": "code",
   "execution_count": 10,
   "metadata": {},
   "outputs": [],
   "source": [
    "# replace \"yes\" and \"no\" to 1 and 0\n",
    "dataset = data.replace(to_replace = ['yes','no'],value = [1,0])"
   ]
  },
  {
   "cell_type": "code",
   "execution_count": 11,
   "metadata": {},
   "outputs": [
    {
     "data": {
      "text/html": [
       "<div>\n",
       "<style scoped>\n",
       "    .dataframe tbody tr th:only-of-type {\n",
       "        vertical-align: middle;\n",
       "    }\n",
       "\n",
       "    .dataframe tbody tr th {\n",
       "        vertical-align: top;\n",
       "    }\n",
       "\n",
       "    .dataframe thead th {\n",
       "        text-align: right;\n",
       "    }\n",
       "</style>\n",
       "<table border=\"1\" class=\"dataframe\">\n",
       "  <thead>\n",
       "    <tr style=\"text-align: right;\">\n",
       "      <th></th>\n",
       "      <th>Temp</th>\n",
       "      <th>Nausea</th>\n",
       "      <th>Lumbar</th>\n",
       "      <th>Urine</th>\n",
       "      <th>Micturition</th>\n",
       "      <th>Burning</th>\n",
       "      <th>target</th>\n",
       "    </tr>\n",
       "  </thead>\n",
       "  <tbody>\n",
       "    <tr>\n",
       "      <th>0</th>\n",
       "      <td>35.3</td>\n",
       "      <td>0</td>\n",
       "      <td>1</td>\n",
       "      <td>0</td>\n",
       "      <td>0</td>\n",
       "      <td>0</td>\n",
       "      <td>4</td>\n",
       "    </tr>\n",
       "    <tr>\n",
       "      <th>1</th>\n",
       "      <td>35.3</td>\n",
       "      <td>0</td>\n",
       "      <td>0</td>\n",
       "      <td>1</td>\n",
       "      <td>1</td>\n",
       "      <td>1</td>\n",
       "      <td>1</td>\n",
       "    </tr>\n",
       "    <tr>\n",
       "      <th>2</th>\n",
       "      <td>35.3</td>\n",
       "      <td>0</td>\n",
       "      <td>1</td>\n",
       "      <td>0</td>\n",
       "      <td>0</td>\n",
       "      <td>0</td>\n",
       "      <td>4</td>\n",
       "    </tr>\n",
       "  </tbody>\n",
       "</table>\n",
       "</div>"
      ],
      "text/plain": [
       "   Temp  Nausea  Lumbar  Urine  Micturition  Burning  target\n",
       "0  35.3       0       1      0            0        0       4\n",
       "1  35.3       0       0      1            1        1       1\n",
       "2  35.3       0       1      0            0        0       4"
      ]
     },
     "execution_count": 11,
     "metadata": {},
     "output_type": "execute_result"
    }
   ],
   "source": [
    "dataset.drop(columns=['Inflammation','Nephritis'], inplace=True)\n",
    "dataset.head(3)"
   ]
  },
  {
   "cell_type": "markdown",
   "metadata": {},
   "source": [
    "# 2 Understanding the Dataset"
   ]
  },
  {
   "cell_type": "code",
   "execution_count": 33,
   "metadata": {},
   "outputs": [
    {
     "data": {
      "text/html": [
       "<style  type=\"text/css\" >\n",
       "</style><table id=\"T_64f3f600_b66d_11eb_afc2_ffc942e380e9\" ><thead>    <tr>        <th class=\"blank level0\" ></th>        <th class=\"col_heading level0 col0\" >Missing Percentage</th>    </tr></thead><tbody>\n",
       "                <tr>\n",
       "                        <th id=\"T_64f3f600_b66d_11eb_afc2_ffc942e380e9level0_row0\" class=\"row_heading level0 row0\" >Temp</th>\n",
       "                        <td id=\"T_64f3f600_b66d_11eb_afc2_ffc942e380e9row0_col0\" class=\"data row0 col0\" >0.0%</td>\n",
       "            </tr>\n",
       "            <tr>\n",
       "                        <th id=\"T_64f3f600_b66d_11eb_afc2_ffc942e380e9level0_row1\" class=\"row_heading level0 row1\" >Nausea</th>\n",
       "                        <td id=\"T_64f3f600_b66d_11eb_afc2_ffc942e380e9row1_col0\" class=\"data row1 col0\" >0.0%</td>\n",
       "            </tr>\n",
       "            <tr>\n",
       "                        <th id=\"T_64f3f600_b66d_11eb_afc2_ffc942e380e9level0_row2\" class=\"row_heading level0 row2\" >Lumbar</th>\n",
       "                        <td id=\"T_64f3f600_b66d_11eb_afc2_ffc942e380e9row2_col0\" class=\"data row2 col0\" >0.0%</td>\n",
       "            </tr>\n",
       "            <tr>\n",
       "                        <th id=\"T_64f3f600_b66d_11eb_afc2_ffc942e380e9level0_row3\" class=\"row_heading level0 row3\" >Urine</th>\n",
       "                        <td id=\"T_64f3f600_b66d_11eb_afc2_ffc942e380e9row3_col0\" class=\"data row3 col0\" >0.0%</td>\n",
       "            </tr>\n",
       "            <tr>\n",
       "                        <th id=\"T_64f3f600_b66d_11eb_afc2_ffc942e380e9level0_row4\" class=\"row_heading level0 row4\" >Micturition</th>\n",
       "                        <td id=\"T_64f3f600_b66d_11eb_afc2_ffc942e380e9row4_col0\" class=\"data row4 col0\" >0.0%</td>\n",
       "            </tr>\n",
       "            <tr>\n",
       "                        <th id=\"T_64f3f600_b66d_11eb_afc2_ffc942e380e9level0_row5\" class=\"row_heading level0 row5\" >Burning</th>\n",
       "                        <td id=\"T_64f3f600_b66d_11eb_afc2_ffc942e380e9row5_col0\" class=\"data row5 col0\" >0.0%</td>\n",
       "            </tr>\n",
       "            <tr>\n",
       "                        <th id=\"T_64f3f600_b66d_11eb_afc2_ffc942e380e9level0_row6\" class=\"row_heading level0 row6\" >target</th>\n",
       "                        <td id=\"T_64f3f600_b66d_11eb_afc2_ffc942e380e9row6_col0\" class=\"data row6 col0\" >0.0%</td>\n",
       "            </tr>\n",
       "    </tbody></table>"
      ],
      "text/plain": [
       "<pandas.io.formats.style.Styler at 0x26ca60d1948>"
      ]
     },
     "execution_count": 33,
     "metadata": {},
     "output_type": "execute_result"
    }
   ],
   "source": [
    "# Missing Values in the dataset\n",
    "pd.DataFrame(dataset.isnull().sum()  / len(dataset), columns=['Missing Percentage']).style.format('{:.1%}')"
   ]
  },
  {
   "cell_type": "code",
   "execution_count": 12,
   "metadata": {},
   "outputs": [
    {
     "data": {
      "text/plain": [
       "<matplotlib.axes._subplots.AxesSubplot at 0x26ca244f108>"
      ]
     },
     "execution_count": 12,
     "metadata": {},
     "output_type": "execute_result"
    },
    {
     "data": {
      "image/png": "[encoded data removed]",
      "text/plain": [
       "<Figure size 432x288 with 1 Axes>"
      ]
     },
     "metadata": {
      "needs_background": "light"
     },
     "output_type": "display_data"
    }
   ],
   "source": [
    "# Calculating the counts of each target catergory\n",
    "sns.countplot(x= 'target', data = dataset)"
   ]
  },
  {
   "cell_type": "markdown",
   "metadata": {},
   "source": [
    "The graph above shows the frequency distrubiton of the target outcomes. In our population, 1/3 participants has inflamation making in the most common diseases in our dataset. Around 25% has nephritis or neither diseases and around 16% has been diagnosed with both inflamation and nephritis."
   ]
  },
  {
   "cell_type": "code",
   "execution_count": 13,
   "metadata": {},
   "outputs": [
    {
     "data": {
      "text/plain": [
       "count    120.000000\n",
       "mean      38.666667\n",
       "std        1.925431\n",
       "min       35.300000\n",
       "25%       37.300000\n",
       "50%       37.800000\n",
       "75%       40.400000\n",
       "max       41.400000\n",
       "Name: Temp, dtype: float64"
      ]
     },
     "execution_count": 13,
     "metadata": {},
     "output_type": "execute_result"
    }
   ],
   "source": [
    "# 1 Temp chart\n",
    "dataset['Temp'].describe()"
   ]
  },
  {
   "cell_type": "code",
   "execution_count": 19,
   "metadata": {},
   "outputs": [
    {
     "data": {
      "image/png": "[encoded data removed]",
      "text/plain": [
       "<Figure size 720x360 with 1 Axes>"
      ]
     },
     "metadata": {},
     "output_type": "display_data"
    }
   ],
   "source": [
    "# 2 Temp graph\n",
    "fig  = plt.subplots(1,1,figsize = (10,5))\n",
    "sns.set_style(\"white\")\n",
    "sns.distplot(dataset['Temp'], kde = True, color = 'blue')\n",
    "plt.show()"
   ]
  },
  {
   "cell_type": "code",
   "execution_count": 21,
   "metadata": {},
   "outputs": [
    {
     "data": {
      "image/png": "[encoded data removed]",
      "text/plain": [
       "<Figure size 720x360 with 1 Axes>"
      ]
     },
     "metadata": {},
     "output_type": "display_data"
    }
   ],
   "source": [
    "# 3 Temp graph\n",
    "fig  = plt.subplots(1,1,figsize = (10,5))\n",
    "\n",
    "for i in sorted(data.target.unique()):\n",
    "    temp = data.query(\"target=={}\".format(i))\n",
    "    sns.distplot(temp['Temp'], label = i, hist = False)\n",
    "plt.legend()\n",
    "plt.show()"
   ]
  },
  {
   "cell_type": "markdown",
   "metadata": {},
   "source": [
    "We only have one non-binary varaible in the dataset and that variable is temperature. To explore the temperature data, three differnt graphs and charts were created. The \"1 Temp chart\" shows the distribution of the temperature. Using the \"1 Temp chart\", we can conclude the temperature is skewed to the right. Even though the mean is 39C, the 25th percentile and 50th percentile is around 37C. To better see the skewness of temp distribution, a \"2 Temp graph\" is created. This graph shows two seperate normal distributions with means around 37C and 40C. To understand how the temperature is affecting the target column(four outcomes), \"3 Temp graph\" is created. This graph shows that all participants with inflamation has lower temperature (35C to 37.5C) while participants with inflamation only or both diseases have higher temperature(38.5C 41.4C). Lastly, participants without inflamation or nephritis can have low or high temperature and the cause of their temperature is not within the scope of our study."
   ]
  },
  {
   "cell_type": "code",
   "execution_count": 22,
   "metadata": {},
   "outputs": [
    {
     "data": {
      "image/png": "[encoded data removed]",
      "text/plain": [
       "<Figure size 864x864 with 6 Axes>"
      ]
     },
     "metadata": {},
     "output_type": "display_data"
    }
   ],
   "source": [
    "fig, ax = plt.subplots(2,3, figsize=(12,12), tight_layout = True)\n",
    "sns.countplot(x= 'Nausea', data = dataset, ax = ax[0,0])\n",
    "sns.countplot(x= 'Lumbar', data = dataset, ax = ax[0,1])\n",
    "sns.countplot(x= 'Urine', data = dataset, ax = ax[1,0])\n",
    "sns.countplot(x= 'Micturition', data = dataset, ax = ax[1,1])\n",
    "sns.countplot(x= 'Burning', data = dataset, ax = ax[0,2])\n",
    "plt.show()"
   ]
  },
  {
   "cell_type": "markdown",
   "metadata": {},
   "source": [
    "So far, we have looked at only one non-binary variable. The graph above shows a distribution of our binary variables. Checking the \"yes\" or \"no\" count will given an idea of how well the data is divided. If every particpant in the study has all \"yes\" or \"no\" for a particular variable then that variable isn't worth including as an input. That variable doesn't give us any new information which will help us differentiate between our four target outcomes. Micturition, Lumbar and Buring are ideal distribution of around 50% for \"0\" and \"1.\" Nauseau and Urine are more realistic. If these variable had greater than 85% frequency of \"0\" or \"yes\", further digging into data would be required to determine whether re-sampling is necessary. Given that isn't the case for any of our binary variables, we can move forward with the given data. "
   ]
  },
  {
   "cell_type": "code",
   "execution_count": 24,
   "metadata": {},
   "outputs": [
    {
     "data": {
      "text/plain": [
       "['Nausea', 'Lumbar', 'Urine', 'Micturition', 'Burning']"
      ]
     },
     "execution_count": 24,
     "metadata": {},
     "output_type": "execute_result"
    }
   ],
   "source": [
    "bin_vars = list(dataset.columns[1:-1])\n",
    "bin_vars"
   ]
  },
  {
   "cell_type": "code",
   "execution_count": 25,
   "metadata": {},
   "outputs": [],
   "source": [
    "def getCounts(col1, col2):\n",
    "    temp = dataset.pivot_table(index = [col1], columns=[col2],values='Temp',  aggfunc='count').reset_index(drop = True).fillna(0)\n",
    "    same = temp.iloc[0,0] + temp.iloc[1,1]\n",
    "    not_same = temp.iloc[1,0] + temp.iloc[0,1]\n",
    "    return same, not_same"
   ]
  },
  {
   "cell_type": "code",
   "execution_count": 27,
   "metadata": {},
   "outputs": [
    {
     "data": {
      "text/plain": [
       "'0.10.0'"
      ]
     },
     "execution_count": 27,
     "metadata": {},
     "output_type": "execute_result"
    }
   ],
   "source": [
    "sns.__version__"
   ]
  },
  {
   "cell_type": "code",
   "execution_count": null,
   "metadata": {},
   "outputs": [],
   "source": [
    "!pip install --upgrade 'seaborn==0.10.0'"
   ]
  },
  {
   "cell_type": "code",
   "execution_count": 26,
   "metadata": {},
   "outputs": [
    {
     "data": {
      "image/png": "[encoded data removed]",
      "text/plain": [
       "<Figure size 1080x648 with 10 Axes>"
      ]
     },
     "metadata": {},
     "output_type": "display_data"
    }
   ],
   "source": [
    "fig, ax = plt.subplots(2,5, figsize = (15,9))\n",
    "counter = 0\n",
    "for i, j in enumerate(bin_vars[:-1]):\n",
    "    for k in bin_vars[i+1:]:\n",
    "        sns.barplot(x=['Same','Not Same'], y=getCounts(j,k), label = \"{}:{}\".format(j,k), ax = ax[counter//5][counter%5])\n",
    "        ax[counter//5][counter%5].legend()\n",
    "        counter += 1"
   ]
  },
  {
   "cell_type": "code",
   "execution_count": 28,
   "metadata": {},
   "outputs": [
    {
     "name": "stdout",
     "output_type": "stream",
     "text": [
      "Occurrence of nausea vs. Burning of urethra:\n",
      "[[50 41]\n",
      " [20  9]]\n",
      " \n",
      "Lumbar pain vs. Burning of urethra:\n",
      "[[30 40]\n",
      " [20 30]]\n",
      " \n"
     ]
    }
   ],
   "source": [
    "var15 = confusion_matrix(dataset['Nausea'], dataset['Burning'])\n",
    "print(\"Occurrence of nausea vs. Burning of urethra:\")\n",
    "print(var15)\n",
    "print(\" \")\n",
    "var25 = confusion_matrix(dataset['Burning'], dataset['Lumbar'])\n",
    "print(\"Lumbar pain vs. Burning of urethra:\")\n",
    "print(var25)\n",
    "print(\" \")"
   ]
  },
  {
   "cell_type": "markdown",
   "metadata": {},
   "source": [
    "The graphs above are testing the correlation between two binary input variables. The goal is remove any input variables at the mutually exclusive or subsets of each other. There are five binary input variables so 10 possible combinations (5 choose 2). Nausea/Burning and Lumbar/Burning from the graphs seems to be subsets of each other. To further investigate this, confusion matrix was created. With in confusion matrix, it can concluded that the same vs not same values are very close to each other but they are not mutually exclusive or subsets of each other."
   ]
  },
  {
   "cell_type": "markdown",
   "metadata": {},
   "source": [
    "# Traning and Test  Division"
   ]
  },
  {
   "cell_type": "code",
   "execution_count": 140,
   "metadata": {},
   "outputs": [],
   "source": [
    "# Seperating out input variables vs. output variable\n",
    "X = dataset.iloc[:, :-1].values\n",
    "y = dataset.iloc[:, -1].values"
   ]
  },
  {
   "cell_type": "code",
   "execution_count": 141,
   "metadata": {},
   "outputs": [],
   "source": [
    "X_train, X_test, y_train, y_test = train_test_split(X, y, test_size = 0.4, random_state = 45)"
   ]
  },
  {
   "cell_type": "markdown",
   "metadata": {},
   "source": [
    "#  Model Selection"
   ]
  },
  {
   "cell_type": "markdown",
   "metadata": {},
   "source": [
    "By exploring the data, it can be easiy concluded that the best fit for the data will be a classification model. There will be four classes (target column). Below are four classification model we will build and then compare the accuracy to determine and the best model.\n",
    "Models:\n",
    "K nearest neighbor\n",
    "Decision Tree\n",
    "Support Vector Machines\n",
    "Random Forest"
   ]
  },
  {
   "cell_type": "code",
   "execution_count": 147,
   "metadata": {},
   "outputs": [
    {
     "name": "stdout",
     "output_type": "stream",
     "text": [
      "Cross Validation Scores:\n",
      "0.81 accuracy with a standard deviation of 0.04\n",
      " \n",
      "Confusion Matrix:\n",
      "[[40  0  0  0]\n",
      " [ 7 18  6  0]\n",
      " [ 0  0 19  0]\n",
      " [ 0 10  0 20]]\n",
      " \n",
      "Accuracy Percentage:\n",
      "80.83333333333333\n"
     ]
    }
   ],
   "source": [
    "#K Nearest Neighbor Model:\n",
    "classifier_knn = KNeighborsClassifier(n_neighbors=4)\n",
    "classifier_knn.fit(X_train, y_train)\n",
    "scores_knn = cross_val_score(classifier_knn, X, y, cv=3)\n",
    "y_pred_knn = cross_val_predict(classifier_knn, X, y, cv=3)\n",
    "cm_knn = confusion_matrix(y, y_pred_knn)\n",
    "print(\"Cross Validation Scores:\")\n",
    "print(\"%0.2f accuracy with a standard deviation of %0.2f\" % (scores_knn.mean(), scores_knn.std()))\n",
    "print(\" \")\n",
    "print(\"Confusion Matrix:\")\n",
    "print(cm_knn)\n",
    "print(\" \")\n",
    "print(\"Accuracy Percentage:\")\n",
    "print(accuracy_score(y, y_pred_knn)*100)"
   ]
  },
  {
   "cell_type": "code",
   "execution_count": null,
   "metadata": {},
   "outputs": [],
   "source": []
  },
  {
   "cell_type": "markdown",
   "metadata": {},
   "source": []
  },
  {
   "cell_type": "code",
   "execution_count": 143,
   "metadata": {},
   "outputs": [
    {
     "name": "stdout",
     "output_type": "stream",
     "text": [
      "Cross Validation Scores:\n",
      "0.86 accuracy with a standard deviation of 0.10\n",
      " \n",
      "Confusion Matrix:\n",
      "[[40  0  0  0]\n",
      " [ 0 24  0  7]\n",
      " [ 0  0 19  0]\n",
      " [ 0 10  0 20]]\n",
      " \n",
      "Accuracy Percentage:\n",
      "85.83333333333333\n"
     ]
    }
   ],
   "source": [
    "# Decision Tree\n",
    "classifier_dt = DecisionTreeClassifier(criterion = 'entropy', random_state = 0)\n",
    "classifier_dt.fit(X_train, y_train)\n",
    "scores_dt = cross_val_score(classifier_dt, X, y, cv=3)\n",
    "y_pred_dt = cross_val_predict(classifier_dt, X, y, cv=3)\n",
    "cm_dt = confusion_matrix(y, y_pred_dt)\n",
    "print(\"Cross Validation Scores:\")\n",
    "print(\"%0.2f accuracy with a standard deviation of %0.2f\" % (scores_dt.mean(), scores_dt.std()))\n",
    "print(\" \")\n",
    "print(\"Confusion Matrix:\")\n",
    "print(cm_dt)\n",
    "print(\" \")\n",
    "print(\"Accuracy Percentage:\")\n",
    "print(accuracy_score(y, y_pred_dt)*100)"
   ]
  },
  {
   "cell_type": "markdown",
   "metadata": {},
   "source": []
  },
  {
   "cell_type": "code",
   "execution_count": 144,
   "metadata": {},
   "outputs": [
    {
     "name": "stdout",
     "output_type": "stream",
     "text": [
      "[LibSVM][LibSVM][LibSVM][LibSVM][LibSVM][LibSVM][LibSVM]Cross Validation Scores:\n",
      "0.86 accuracy with a standard deviation of 0.10\n",
      " \n",
      "Confusion Matrix:\n",
      "[[40  0  0  0]\n",
      " [ 7 24  0  0]\n",
      " [ 0  0 19  0]\n",
      " [ 0 10  0 20]]\n",
      " \n",
      "Accuracy Percentage:\n",
      "85.83333333333333\n"
     ]
    }
   ],
   "source": [
    "# Support Vector Machine\n",
    "classifier_svc = SVC(kernel = 'linear', verbose = 1, random_state = 0)\n",
    "classifier_svc.fit(X_train, y_train)\n",
    "scores_svc = cross_val_score(classifier_svc, X, y, cv=3)\n",
    "y_pred_svc = cross_val_predict(classifier_svc, X, y, cv=3)\n",
    "cm_svc = confusion_matrix(y, y_pred_svc)\n",
    "print(\"Cross Validation Scores:\")\n",
    "print(\"%0.2f accuracy with a standard deviation of %0.2f\" % (scores_svc.mean(), scores_svc.std()))\n",
    "print(\" \")\n",
    "print(\"Confusion Matrix:\")\n",
    "print(cm_svc)\n",
    "print(\" \")\n",
    "print(\"Accuracy Percentage:\")\n",
    "print(accuracy_score(y, y_pred_svc)*100)"
   ]
  },
  {
   "cell_type": "markdown",
   "metadata": {},
   "source": []
  },
  {
   "cell_type": "code",
   "execution_count": 145,
   "metadata": {},
   "outputs": [
    {
     "name": "stdout",
     "output_type": "stream",
     "text": [
      "Cross Validation Scores:\n",
      "0.92 accuracy with a standard deviation of 0.12\n",
      " \n",
      "Confusion Matrix:\n",
      "[[40  0  0  0]\n",
      " [ 0 31  0  0]\n",
      " [ 0  0 19  0]\n",
      " [ 0 10  0 20]]\n",
      " \n",
      "Accuracy Percentage:\n",
      "91.66666666666666\n"
     ]
    }
   ],
   "source": [
    "# Random Forest\n",
    "classifier_rf = RandomForestClassifier(n_estimators = 250, criterion = 'entropy', random_state = 0)\n",
    "classifier_rf.fit(X_train, y_train)\n",
    "scores_rf = cross_val_score(classifier_rf, X, y, cv=3)\n",
    "y_pred_rf = cross_val_predict(classifier_rf, X, y, cv=3)\n",
    "cm_rf = confusion_matrix(y, y_pred_rf)\n",
    "print(\"Cross Validation Scores:\")\n",
    "print(\"%0.2f accuracy with a standard deviation of %0.2f\" % (scores_rf.mean(), scores_rf.std()))\n",
    "print(\" \")\n",
    "print(\"Confusion Matrix:\")\n",
    "print(cm_rf)\n",
    "print(\" \")\n",
    "print(\"Accuracy Percentage:\")\n",
    "print(accuracy_score(y, y_pred_rf)*100)"
   ]
  },
  {
   "cell_type": "markdown",
   "metadata": {},
   "source": [
    "Random forest is the best model given its high average accuracy "
   ]
  }
 ],
 "metadata": {
  "kernelspec": {
   "display_name": "Python 3",
   "language": "python",
   "name": "python3"
  },
  "language_info": {
   "codemirror_mode": {
    "name": "ipython",
    "version": 3
   },
   "file_extension": ".py",
   "mimetype": "text/x-python",
   "name": "python",
   "nbconvert_exporter": "python",
   "pygments_lexer": "ipython3",
   "version": "3.7.6"
  }
 },
 "nbformat": 4,
 "nbformat_minor": 4
}
